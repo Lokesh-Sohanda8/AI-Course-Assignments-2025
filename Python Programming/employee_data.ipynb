{
 "cells": [
  {
   "cell_type": "markdown",
   "id": "9e562c37",
   "metadata": {},
   "source": [
    "# 🧑‍💼 Python Assignment: Employee Data Processing\n",
    "\n",
    "## 📁 Dataset: `Employee.csv`\n",
    "\n",
    "The dataset contains employee information for an organization. Each record includes:\n",
    "\n",
    "- **EID** – Employee ID  \n",
    "- **Employee Name**  \n",
    "- **Gender**  \n",
    "- **Salary**  \n",
    "- **Date of Joining**\n",
    "\n",
    "---\n",
    "\n",
    "## 🎯 Objectives\n",
    "\n",
    "### 1. Greet an employee using their first name based on their ID\n",
    "- **Input**: `E123D`  \n",
    "- **Output**: `\"Hello, Mr Nitin\"`\n",
    "\n",
    "---\n",
    "\n",
    "### 2. Calculate the average salary of each department\n",
    "- Write a function that groups employees by department and returns the average salary.\n",
    "\n",
    "---\n",
    "\n",
    "### 3. Display employee details by ID\n",
    "- **Input**: `E123D`  \n",
    "- **Output**: `Nitin Bhole | 01-11-2016 | Products`  \n",
    "- Fields to display:\n",
    "  - Employee Name\n",
    "  - Date of Joining\n",
    "  - Department\n",
    "\n",
    "---\n",
    "\n",
    "### 4. Sort employees from oldest to newest\n",
    "- Sort based on **Date of Joining** in ascending order.\n",
    "\n",
    "---\n",
    "\n",
    "## ✅ Notes\n",
    "- Use `pandas` for reading and processing the CSV file.\n",
    "- Ensure proper formatting and error handling for missing or invalid IDs."
   ]
  },
  {
   "cell_type": "code",
   "execution_count": 1,
   "id": "4bbfc9e9",
   "metadata": {},
   "outputs": [],
   "source": [
    "# Importing all necessary libraries\n",
    "\n",
    "import pandas as pd\n",
    "import numpy as np"
   ]
  },
  {
   "cell_type": "code",
   "execution_count": 2,
   "id": "3797f0a6",
   "metadata": {},
   "outputs": [
    {
     "data": {
      "application/vnd.microsoft.datawrangler.viewer.v0+json": {
       "columns": [
        {
         "name": "index",
         "rawType": "int64",
         "type": "integer"
        },
        {
         "name": "EID",
         "rawType": "object",
         "type": "string"
        },
        {
         "name": "Employee Name",
         "rawType": "object",
         "type": "string"
        },
        {
         "name": "Gender",
         "rawType": "object",
         "type": "string"
        },
        {
         "name": "Salary",
         "rawType": "int64",
         "type": "integer"
        },
        {
         "name": "Date of Joining",
         "rawType": "object",
         "type": "string"
        },
        {
         "name": "Department",
         "rawType": "object",
         "type": "string"
        }
       ],
       "ref": "848f2e3f-5cd0-45b0-a9e0-eb5ac9cb702a",
       "rows": [
        [
         "0",
         "E123D",
         "Nitin Bhole",
         "M",
         "1900000",
         "01-11-2016",
         "Products"
        ],
        [
         "1",
         "E876G",
         "Mayur Kulkarni",
         "M",
         "1200000",
         "03-06-2016",
         "Semantics"
        ],
        [
         "2",
         "E798G",
         "Anurag Pandey",
         "M",
         "1200000",
         "04-07-2016",
         "IT"
        ],
        [
         "3",
         "E123B",
         "Pankaj Bansal",
         "M",
         "900000",
         "01-12-2015",
         "Research"
        ],
        [
         "4",
         "E098Z",
         "Rajendra Prabhu",
         "M",
         "1000000",
         "11-11-2015",
         "Semantics"
        ],
        [
         "5",
         "E294M",
         "Sumanth Mishra",
         "M",
         "1800000",
         "04-09-2017",
         "Research"
        ],
        [
         "6",
         "E972L",
         "Sai Bodha",
         "M",
         "1100000",
         "11-11-2017",
         "Semantics"
        ],
        [
         "7",
         "E184A",
         "Kushmakar Krishna",
         "M",
         "1100000",
         "01-01-2015",
         "Products"
        ],
        [
         "8",
         "E104S",
         "Amarnath Patil",
         "M",
         "600000",
         "29-11-2015",
         "Engineering"
        ],
        [
         "9",
         "E093V",
         "Shashidhar Reddy",
         "M",
         "700000",
         "29-11-2018",
         "Engineering"
        ],
        [
         "10",
         "E983Q",
         "Chakshu Bansal",
         "F",
         "300000",
         "04-12-2017",
         "Products"
        ],
        [
         "11",
         "E092E",
         "Mitali Gupta",
         "F",
         "1600000",
         "02-05-2019",
         "Semantics"
        ],
        [
         "12",
         "E620Y",
         "Kumar Abhishek",
         "M",
         "1100000",
         "01-12-2014",
         "Semantics"
        ],
        [
         "13",
         "E109U",
         "Sanket Gibbidi",
         "M",
         "5000000",
         "11-01-2019",
         "Products"
        ]
       ],
       "shape": {
        "columns": 6,
        "rows": 14
       }
      },
      "text/html": [
       "<div>\n",
       "<style scoped>\n",
       "    .dataframe tbody tr th:only-of-type {\n",
       "        vertical-align: middle;\n",
       "    }\n",
       "\n",
       "    .dataframe tbody tr th {\n",
       "        vertical-align: top;\n",
       "    }\n",
       "\n",
       "    .dataframe thead th {\n",
       "        text-align: right;\n",
       "    }\n",
       "</style>\n",
       "<table border=\"1\" class=\"dataframe\">\n",
       "  <thead>\n",
       "    <tr style=\"text-align: right;\">\n",
       "      <th></th>\n",
       "      <th>EID</th>\n",
       "      <th>Employee Name</th>\n",
       "      <th>Gender</th>\n",
       "      <th>Salary</th>\n",
       "      <th>Date of Joining</th>\n",
       "      <th>Department</th>\n",
       "    </tr>\n",
       "  </thead>\n",
       "  <tbody>\n",
       "    <tr>\n",
       "      <th>0</th>\n",
       "      <td>E123D</td>\n",
       "      <td>Nitin Bhole</td>\n",
       "      <td>M</td>\n",
       "      <td>1900000</td>\n",
       "      <td>01-11-2016</td>\n",
       "      <td>Products</td>\n",
       "    </tr>\n",
       "    <tr>\n",
       "      <th>1</th>\n",
       "      <td>E876G</td>\n",
       "      <td>Mayur Kulkarni</td>\n",
       "      <td>M</td>\n",
       "      <td>1200000</td>\n",
       "      <td>03-06-2016</td>\n",
       "      <td>Semantics</td>\n",
       "    </tr>\n",
       "    <tr>\n",
       "      <th>2</th>\n",
       "      <td>E798G</td>\n",
       "      <td>Anurag Pandey</td>\n",
       "      <td>M</td>\n",
       "      <td>1200000</td>\n",
       "      <td>04-07-2016</td>\n",
       "      <td>IT</td>\n",
       "    </tr>\n",
       "    <tr>\n",
       "      <th>3</th>\n",
       "      <td>E123B</td>\n",
       "      <td>Pankaj Bansal</td>\n",
       "      <td>M</td>\n",
       "      <td>900000</td>\n",
       "      <td>01-12-2015</td>\n",
       "      <td>Research</td>\n",
       "    </tr>\n",
       "    <tr>\n",
       "      <th>4</th>\n",
       "      <td>E098Z</td>\n",
       "      <td>Rajendra Prabhu</td>\n",
       "      <td>M</td>\n",
       "      <td>1000000</td>\n",
       "      <td>11-11-2015</td>\n",
       "      <td>Semantics</td>\n",
       "    </tr>\n",
       "    <tr>\n",
       "      <th>5</th>\n",
       "      <td>E294M</td>\n",
       "      <td>Sumanth Mishra</td>\n",
       "      <td>M</td>\n",
       "      <td>1800000</td>\n",
       "      <td>04-09-2017</td>\n",
       "      <td>Research</td>\n",
       "    </tr>\n",
       "    <tr>\n",
       "      <th>6</th>\n",
       "      <td>E972L</td>\n",
       "      <td>Sai Bodha</td>\n",
       "      <td>M</td>\n",
       "      <td>1100000</td>\n",
       "      <td>11-11-2017</td>\n",
       "      <td>Semantics</td>\n",
       "    </tr>\n",
       "    <tr>\n",
       "      <th>7</th>\n",
       "      <td>E184A</td>\n",
       "      <td>Kushmakar Krishna</td>\n",
       "      <td>M</td>\n",
       "      <td>1100000</td>\n",
       "      <td>01-01-2015</td>\n",
       "      <td>Products</td>\n",
       "    </tr>\n",
       "    <tr>\n",
       "      <th>8</th>\n",
       "      <td>E104S</td>\n",
       "      <td>Amarnath Patil</td>\n",
       "      <td>M</td>\n",
       "      <td>600000</td>\n",
       "      <td>29-11-2015</td>\n",
       "      <td>Engineering</td>\n",
       "    </tr>\n",
       "    <tr>\n",
       "      <th>9</th>\n",
       "      <td>E093V</td>\n",
       "      <td>Shashidhar Reddy</td>\n",
       "      <td>M</td>\n",
       "      <td>700000</td>\n",
       "      <td>29-11-2018</td>\n",
       "      <td>Engineering</td>\n",
       "    </tr>\n",
       "    <tr>\n",
       "      <th>10</th>\n",
       "      <td>E983Q</td>\n",
       "      <td>Chakshu Bansal</td>\n",
       "      <td>F</td>\n",
       "      <td>300000</td>\n",
       "      <td>04-12-2017</td>\n",
       "      <td>Products</td>\n",
       "    </tr>\n",
       "    <tr>\n",
       "      <th>11</th>\n",
       "      <td>E092E</td>\n",
       "      <td>Mitali Gupta</td>\n",
       "      <td>F</td>\n",
       "      <td>1600000</td>\n",
       "      <td>02-05-2019</td>\n",
       "      <td>Semantics</td>\n",
       "    </tr>\n",
       "    <tr>\n",
       "      <th>12</th>\n",
       "      <td>E620Y</td>\n",
       "      <td>Kumar Abhishek</td>\n",
       "      <td>M</td>\n",
       "      <td>1100000</td>\n",
       "      <td>01-12-2014</td>\n",
       "      <td>Semantics</td>\n",
       "    </tr>\n",
       "    <tr>\n",
       "      <th>13</th>\n",
       "      <td>E109U</td>\n",
       "      <td>Sanket Gibbidi</td>\n",
       "      <td>M</td>\n",
       "      <td>5000000</td>\n",
       "      <td>11-01-2019</td>\n",
       "      <td>Products</td>\n",
       "    </tr>\n",
       "  </tbody>\n",
       "</table>\n",
       "</div>"
      ],
      "text/plain": [
       "      EID      Employee Name Gender   Salary Date of Joining   Department\n",
       "0   E123D        Nitin Bhole      M  1900000      01-11-2016     Products\n",
       "1   E876G     Mayur Kulkarni      M  1200000      03-06-2016    Semantics\n",
       "2   E798G      Anurag Pandey      M  1200000      04-07-2016           IT\n",
       "3   E123B      Pankaj Bansal      M   900000      01-12-2015     Research\n",
       "4   E098Z    Rajendra Prabhu      M  1000000      11-11-2015    Semantics\n",
       "5   E294M     Sumanth Mishra      M  1800000      04-09-2017     Research\n",
       "6   E972L          Sai Bodha      M  1100000      11-11-2017    Semantics\n",
       "7   E184A  Kushmakar Krishna      M  1100000      01-01-2015     Products\n",
       "8   E104S     Amarnath Patil      M   600000      29-11-2015  Engineering\n",
       "9   E093V   Shashidhar Reddy      M   700000      29-11-2018  Engineering\n",
       "10  E983Q     Chakshu Bansal      F   300000      04-12-2017     Products\n",
       "11  E092E       Mitali Gupta      F  1600000      02-05-2019    Semantics\n",
       "12  E620Y     Kumar Abhishek      M  1100000      01-12-2014    Semantics\n",
       "13  E109U     Sanket Gibbidi      M  5000000      11-01-2019     Products"
      ]
     },
     "execution_count": 2,
     "metadata": {},
     "output_type": "execute_result"
    }
   ],
   "source": [
    "# Importing dataset using pandas\n",
    "\n",
    "df = pd.read_csv('employee.csv')\n",
    "df"
   ]
  },
  {
   "cell_type": "code",
   "execution_count": 3,
   "id": "c1bf2f52",
   "metadata": {},
   "outputs": [
    {
     "name": "stdout",
     "output_type": "stream",
     "text": [
      "<class 'pandas.core.frame.DataFrame'>\n",
      "RangeIndex: 14 entries, 0 to 13\n",
      "Data columns (total 6 columns):\n",
      " #   Column           Non-Null Count  Dtype \n",
      "---  ------           --------------  ----- \n",
      " 0   EID              14 non-null     object\n",
      " 1   Employee Name    14 non-null     object\n",
      " 2   Gender           14 non-null     object\n",
      " 3   Salary           14 non-null     int64 \n",
      " 4   Date of Joining  14 non-null     object\n",
      " 5   Department       14 non-null     object\n",
      "dtypes: int64(1), object(5)\n",
      "memory usage: 804.0+ bytes\n"
     ]
    }
   ],
   "source": [
    "df.info()"
   ]
  },
  {
   "cell_type": "code",
   "execution_count": 4,
   "id": "bff63fa3",
   "metadata": {},
   "outputs": [
    {
     "data": {
      "application/vnd.microsoft.datawrangler.viewer.v0+json": {
       "columns": [
        {
         "name": "index",
         "rawType": "object",
         "type": "string"
        },
        {
         "name": "Salary",
         "rawType": "float64",
         "type": "float"
        }
       ],
       "ref": "86e09f84-30ee-4102-b1e7-a5131f5ee12e",
       "rows": [
        [
         "count",
         "14.0"
        ],
        [
         "mean",
         "1392857.142857143"
        ],
        [
         "std",
         "1126918.3887687055"
        ],
        [
         "min",
         "300000.0"
        ],
        [
         "25%",
         "925000.0"
        ],
        [
         "50%",
         "1100000.0"
        ],
        [
         "75%",
         "1500000.0"
        ],
        [
         "max",
         "5000000.0"
        ]
       ],
       "shape": {
        "columns": 1,
        "rows": 8
       }
      },
      "text/html": [
       "<div>\n",
       "<style scoped>\n",
       "    .dataframe tbody tr th:only-of-type {\n",
       "        vertical-align: middle;\n",
       "    }\n",
       "\n",
       "    .dataframe tbody tr th {\n",
       "        vertical-align: top;\n",
       "    }\n",
       "\n",
       "    .dataframe thead th {\n",
       "        text-align: right;\n",
       "    }\n",
       "</style>\n",
       "<table border=\"1\" class=\"dataframe\">\n",
       "  <thead>\n",
       "    <tr style=\"text-align: right;\">\n",
       "      <th></th>\n",
       "      <th>Salary</th>\n",
       "    </tr>\n",
       "  </thead>\n",
       "  <tbody>\n",
       "    <tr>\n",
       "      <th>count</th>\n",
       "      <td>1.400000e+01</td>\n",
       "    </tr>\n",
       "    <tr>\n",
       "      <th>mean</th>\n",
       "      <td>1.392857e+06</td>\n",
       "    </tr>\n",
       "    <tr>\n",
       "      <th>std</th>\n",
       "      <td>1.126918e+06</td>\n",
       "    </tr>\n",
       "    <tr>\n",
       "      <th>min</th>\n",
       "      <td>3.000000e+05</td>\n",
       "    </tr>\n",
       "    <tr>\n",
       "      <th>25%</th>\n",
       "      <td>9.250000e+05</td>\n",
       "    </tr>\n",
       "    <tr>\n",
       "      <th>50%</th>\n",
       "      <td>1.100000e+06</td>\n",
       "    </tr>\n",
       "    <tr>\n",
       "      <th>75%</th>\n",
       "      <td>1.500000e+06</td>\n",
       "    </tr>\n",
       "    <tr>\n",
       "      <th>max</th>\n",
       "      <td>5.000000e+06</td>\n",
       "    </tr>\n",
       "  </tbody>\n",
       "</table>\n",
       "</div>"
      ],
      "text/plain": [
       "             Salary\n",
       "count  1.400000e+01\n",
       "mean   1.392857e+06\n",
       "std    1.126918e+06\n",
       "min    3.000000e+05\n",
       "25%    9.250000e+05\n",
       "50%    1.100000e+06\n",
       "75%    1.500000e+06\n",
       "max    5.000000e+06"
      ]
     },
     "execution_count": 4,
     "metadata": {},
     "output_type": "execute_result"
    }
   ],
   "source": [
    "df.describe()"
   ]
  },
  {
   "cell_type": "code",
   "execution_count": 5,
   "id": "a2b459a9",
   "metadata": {},
   "outputs": [
    {
     "data": {
      "application/vnd.microsoft.datawrangler.viewer.v0+json": {
       "columns": [
        {
         "name": "index",
         "rawType": "object",
         "type": "string"
        },
        {
         "name": "0",
         "rawType": "int64",
         "type": "integer"
        }
       ],
       "ref": "8f378cdb-d4de-4095-ab38-d807531844cc",
       "rows": [
        [
         "EID",
         "0"
        ],
        [
         "Employee Name",
         "0"
        ],
        [
         "Gender",
         "0"
        ],
        [
         "Salary",
         "0"
        ],
        [
         "Date of Joining",
         "0"
        ],
        [
         "Department",
         "0"
        ]
       ],
       "shape": {
        "columns": 1,
        "rows": 6
       }
      },
      "text/plain": [
       "EID                0\n",
       "Employee Name      0\n",
       "Gender             0\n",
       "Salary             0\n",
       "Date of Joining    0\n",
       "Department         0\n",
       "dtype: int64"
      ]
     },
     "execution_count": 5,
     "metadata": {},
     "output_type": "execute_result"
    }
   ],
   "source": [
    "df.isnull().sum()"
   ]
  },
  {
   "cell_type": "code",
   "execution_count": 6,
   "id": "07c8510e",
   "metadata": {},
   "outputs": [
    {
     "data": {
      "text/plain": [
       "0"
      ]
     },
     "execution_count": 6,
     "metadata": {},
     "output_type": "execute_result"
    }
   ],
   "source": [
    "df.duplicated().sum()"
   ]
  },
  {
   "cell_type": "code",
   "execution_count": 7,
   "id": "be369c92",
   "metadata": {},
   "outputs": [
    {
     "data": {
      "text/plain": [
       "(14, 6)"
      ]
     },
     "execution_count": 7,
     "metadata": {},
     "output_type": "execute_result"
    }
   ],
   "source": [
    "df.shape"
   ]
  },
  {
   "cell_type": "code",
   "execution_count": 8,
   "id": "9709d801",
   "metadata": {},
   "outputs": [
    {
     "data": {
      "text/plain": [
       "'Hello, Ms Mitali'"
      ]
     },
     "execution_count": 8,
     "metadata": {},
     "output_type": "execute_result"
    }
   ],
   "source": [
    "# Task 1: Given an employee id, greet them with their first name.\n",
    "# Input - E123D\n",
    "# Output - “Hello, Mr Nitin”\n",
    "\n",
    "def greet_employee(id):\n",
    "    emp = df[df['EID'] == id]\n",
    "    if emp.empty:\n",
    "        return \"Employee not found\"\n",
    "\n",
    "    name = emp.iloc[0]['Employee Name'].split()[0]\n",
    "    gender = emp.iloc[0]['Gender'].upper()\n",
    "\n",
    "    if gender == \"M\":\n",
    "        title = \"Mr\"\n",
    "    elif gender == \"F\":\n",
    "        title = \"Ms\"\n",
    "    else:\n",
    "        title = \"\"\n",
    "\n",
    "    return f\"Hello, {title} {name}\"\n",
    "\n",
    "greet_employee(\"E092E\")"
   ]
  },
  {
   "cell_type": "code",
   "execution_count": 9,
   "id": "bceab7b4",
   "metadata": {},
   "outputs": [
    {
     "name": "stdout",
     "output_type": "stream",
     "text": [
      "Department\n",
      "Engineering     650000.0\n",
      "IT             1200000.0\n",
      "Products       2075000.0\n",
      "Research       1350000.0\n",
      "Semantics      1200000.0\n",
      "Name: Salary, dtype: float64\n"
     ]
    }
   ],
   "source": [
    "# Task 2: Function for calculating the average salary of each department.\n",
    "\n",
    "def average_salary_by_department(dataframe):\n",
    "    avg_salary = dataframe.groupby(\"Department\")['Salary'].mean()\n",
    "    return avg_salary\n",
    "\n",
    "avg_salaries = average_salary_by_department(df)\n",
    "print(avg_salaries)"
   ]
  },
  {
   "cell_type": "code",
   "execution_count": 10,
   "id": "8d898894",
   "metadata": {},
   "outputs": [
    {
     "name": "stdout",
     "output_type": "stream",
     "text": [
      "Nitin | 01-11-2016 | Products\n"
     ]
    }
   ],
   "source": [
    "# Task 3: Given an Employee id, display respective employees Name, Data of Joining and Department.\n",
    "# Input - E123D\n",
    "# Output - Nitin Bhole | 01-11-2016 | Products\n",
    "\n",
    "def employee_details(id):\n",
    "    emp = df[df['EID'] == id]\n",
    "    if emp.empty:\n",
    "        return \"Employee not found\"\n",
    "\n",
    "    name = emp.iloc[0]['Employee Name'].split()[0]\n",
    "    department = emp.iloc[0]['Department']\n",
    "    date = emp.iloc[0]['Date of Joining']\n",
    "\n",
    "    return f\"{name} | {date} | {department}\"\n",
    "\n",
    "employee = employee_details(\"E123D\")\n",
    "print(employee)"
   ]
  },
  {
   "cell_type": "code",
   "execution_count": 11,
   "id": "82e5e65c",
   "metadata": {},
   "outputs": [
    {
     "name": "stdout",
     "output_type": "stream",
     "text": [
      "      EID      Employee Name Date of Joining\n",
      "12  E620Y     Kumar Abhishek      2014-12-01\n",
      "7   E184A  Kushmakar Krishna      2015-01-01\n",
      "4   E098Z    Rajendra Prabhu      2015-11-11\n",
      "8   E104S     Amarnath Patil      2015-11-29\n",
      "3   E123B      Pankaj Bansal      2015-12-01\n",
      "1   E876G     Mayur Kulkarni      2016-06-03\n",
      "2   E798G      Anurag Pandey      2016-07-04\n",
      "0   E123D        Nitin Bhole      2016-11-01\n",
      "5   E294M     Sumanth Mishra      2017-09-04\n",
      "6   E972L          Sai Bodha      2017-11-11\n",
      "10  E983Q     Chakshu Bansal      2017-12-04\n",
      "9   E093V   Shashidhar Reddy      2018-11-29\n",
      "13  E109U     Sanket Gibbidi      2019-01-11\n",
      "11  E092E       Mitali Gupta      2019-05-02\n"
     ]
    }
   ],
   "source": [
    "# Task 4: Function to sort employees from oldest to newest based on Date of Joining\n",
    "\n",
    "def sort_employees_by_joining(dataframe):\n",
    "    dataframe['Date of Joining'] = pd.to_datetime(dataframe['Date of Joining'], dayfirst=True)\n",
    "    sorted_df = dataframe.sort_values(by='Date of Joining')\n",
    "    return sorted_df\n",
    "\n",
    "# Example usage\n",
    "sorted_employees = sort_employees_by_joining(df)\n",
    "print(sorted_employees[['EID', 'Employee Name', 'Date of Joining']])"
   ]
  },
  {
   "cell_type": "code",
   "execution_count": 12,
   "id": "0f04aed1",
   "metadata": {},
   "outputs": [
    {
     "data": {
      "application/vnd.microsoft.datawrangler.viewer.v0+json": {
       "columns": [
        {
         "name": "index",
         "rawType": "int64",
         "type": "integer"
        },
        {
         "name": "EID",
         "rawType": "object",
         "type": "string"
        },
        {
         "name": "Employee Name",
         "rawType": "object",
         "type": "string"
        },
        {
         "name": "Gender",
         "rawType": "object",
         "type": "string"
        },
        {
         "name": "Salary",
         "rawType": "int64",
         "type": "integer"
        },
        {
         "name": "Date of Joining",
         "rawType": "datetime64[ns]",
         "type": "datetime"
        },
        {
         "name": "Department",
         "rawType": "object",
         "type": "string"
        }
       ],
       "ref": "382d902d-f11f-4683-9917-3100ecda58db",
       "rows": [
        [
         "12",
         "E620Y",
         "Kumar Abhishek",
         "M",
         "1100000",
         "2014-12-01 00:00:00",
         "Semantics"
        ],
        [
         "7",
         "E184A",
         "Kushmakar Krishna",
         "M",
         "1100000",
         "2015-01-01 00:00:00",
         "Products"
        ],
        [
         "4",
         "E098Z",
         "Rajendra Prabhu",
         "M",
         "1000000",
         "2015-11-11 00:00:00",
         "Semantics"
        ],
        [
         "8",
         "E104S",
         "Amarnath Patil",
         "M",
         "600000",
         "2015-11-29 00:00:00",
         "Engineering"
        ],
        [
         "3",
         "E123B",
         "Pankaj Bansal",
         "M",
         "900000",
         "2015-12-01 00:00:00",
         "Research"
        ],
        [
         "1",
         "E876G",
         "Mayur Kulkarni",
         "M",
         "1200000",
         "2016-06-03 00:00:00",
         "Semantics"
        ],
        [
         "2",
         "E798G",
         "Anurag Pandey",
         "M",
         "1200000",
         "2016-07-04 00:00:00",
         "IT"
        ],
        [
         "0",
         "E123D",
         "Nitin Bhole",
         "M",
         "1900000",
         "2016-11-01 00:00:00",
         "Products"
        ],
        [
         "5",
         "E294M",
         "Sumanth Mishra",
         "M",
         "1800000",
         "2017-09-04 00:00:00",
         "Research"
        ],
        [
         "6",
         "E972L",
         "Sai Bodha",
         "M",
         "1100000",
         "2017-11-11 00:00:00",
         "Semantics"
        ],
        [
         "10",
         "E983Q",
         "Chakshu Bansal",
         "F",
         "300000",
         "2017-12-04 00:00:00",
         "Products"
        ],
        [
         "9",
         "E093V",
         "Shashidhar Reddy",
         "M",
         "700000",
         "2018-11-29 00:00:00",
         "Engineering"
        ],
        [
         "13",
         "E109U",
         "Sanket Gibbidi",
         "M",
         "5000000",
         "2019-01-11 00:00:00",
         "Products"
        ],
        [
         "11",
         "E092E",
         "Mitali Gupta",
         "F",
         "1600000",
         "2019-05-02 00:00:00",
         "Semantics"
        ]
       ],
       "shape": {
        "columns": 6,
        "rows": 14
       }
      },
      "text/html": [
       "<div>\n",
       "<style scoped>\n",
       "    .dataframe tbody tr th:only-of-type {\n",
       "        vertical-align: middle;\n",
       "    }\n",
       "\n",
       "    .dataframe tbody tr th {\n",
       "        vertical-align: top;\n",
       "    }\n",
       "\n",
       "    .dataframe thead th {\n",
       "        text-align: right;\n",
       "    }\n",
       "</style>\n",
       "<table border=\"1\" class=\"dataframe\">\n",
       "  <thead>\n",
       "    <tr style=\"text-align: right;\">\n",
       "      <th></th>\n",
       "      <th>EID</th>\n",
       "      <th>Employee Name</th>\n",
       "      <th>Gender</th>\n",
       "      <th>Salary</th>\n",
       "      <th>Date of Joining</th>\n",
       "      <th>Department</th>\n",
       "    </tr>\n",
       "  </thead>\n",
       "  <tbody>\n",
       "    <tr>\n",
       "      <th>12</th>\n",
       "      <td>E620Y</td>\n",
       "      <td>Kumar Abhishek</td>\n",
       "      <td>M</td>\n",
       "      <td>1100000</td>\n",
       "      <td>2014-12-01</td>\n",
       "      <td>Semantics</td>\n",
       "    </tr>\n",
       "    <tr>\n",
       "      <th>7</th>\n",
       "      <td>E184A</td>\n",
       "      <td>Kushmakar Krishna</td>\n",
       "      <td>M</td>\n",
       "      <td>1100000</td>\n",
       "      <td>2015-01-01</td>\n",
       "      <td>Products</td>\n",
       "    </tr>\n",
       "    <tr>\n",
       "      <th>4</th>\n",
       "      <td>E098Z</td>\n",
       "      <td>Rajendra Prabhu</td>\n",
       "      <td>M</td>\n",
       "      <td>1000000</td>\n",
       "      <td>2015-11-11</td>\n",
       "      <td>Semantics</td>\n",
       "    </tr>\n",
       "    <tr>\n",
       "      <th>8</th>\n",
       "      <td>E104S</td>\n",
       "      <td>Amarnath Patil</td>\n",
       "      <td>M</td>\n",
       "      <td>600000</td>\n",
       "      <td>2015-11-29</td>\n",
       "      <td>Engineering</td>\n",
       "    </tr>\n",
       "    <tr>\n",
       "      <th>3</th>\n",
       "      <td>E123B</td>\n",
       "      <td>Pankaj Bansal</td>\n",
       "      <td>M</td>\n",
       "      <td>900000</td>\n",
       "      <td>2015-12-01</td>\n",
       "      <td>Research</td>\n",
       "    </tr>\n",
       "    <tr>\n",
       "      <th>1</th>\n",
       "      <td>E876G</td>\n",
       "      <td>Mayur Kulkarni</td>\n",
       "      <td>M</td>\n",
       "      <td>1200000</td>\n",
       "      <td>2016-06-03</td>\n",
       "      <td>Semantics</td>\n",
       "    </tr>\n",
       "    <tr>\n",
       "      <th>2</th>\n",
       "      <td>E798G</td>\n",
       "      <td>Anurag Pandey</td>\n",
       "      <td>M</td>\n",
       "      <td>1200000</td>\n",
       "      <td>2016-07-04</td>\n",
       "      <td>IT</td>\n",
       "    </tr>\n",
       "    <tr>\n",
       "      <th>0</th>\n",
       "      <td>E123D</td>\n",
       "      <td>Nitin Bhole</td>\n",
       "      <td>M</td>\n",
       "      <td>1900000</td>\n",
       "      <td>2016-11-01</td>\n",
       "      <td>Products</td>\n",
       "    </tr>\n",
       "    <tr>\n",
       "      <th>5</th>\n",
       "      <td>E294M</td>\n",
       "      <td>Sumanth Mishra</td>\n",
       "      <td>M</td>\n",
       "      <td>1800000</td>\n",
       "      <td>2017-09-04</td>\n",
       "      <td>Research</td>\n",
       "    </tr>\n",
       "    <tr>\n",
       "      <th>6</th>\n",
       "      <td>E972L</td>\n",
       "      <td>Sai Bodha</td>\n",
       "      <td>M</td>\n",
       "      <td>1100000</td>\n",
       "      <td>2017-11-11</td>\n",
       "      <td>Semantics</td>\n",
       "    </tr>\n",
       "    <tr>\n",
       "      <th>10</th>\n",
       "      <td>E983Q</td>\n",
       "      <td>Chakshu Bansal</td>\n",
       "      <td>F</td>\n",
       "      <td>300000</td>\n",
       "      <td>2017-12-04</td>\n",
       "      <td>Products</td>\n",
       "    </tr>\n",
       "    <tr>\n",
       "      <th>9</th>\n",
       "      <td>E093V</td>\n",
       "      <td>Shashidhar Reddy</td>\n",
       "      <td>M</td>\n",
       "      <td>700000</td>\n",
       "      <td>2018-11-29</td>\n",
       "      <td>Engineering</td>\n",
       "    </tr>\n",
       "    <tr>\n",
       "      <th>13</th>\n",
       "      <td>E109U</td>\n",
       "      <td>Sanket Gibbidi</td>\n",
       "      <td>M</td>\n",
       "      <td>5000000</td>\n",
       "      <td>2019-01-11</td>\n",
       "      <td>Products</td>\n",
       "    </tr>\n",
       "    <tr>\n",
       "      <th>11</th>\n",
       "      <td>E092E</td>\n",
       "      <td>Mitali Gupta</td>\n",
       "      <td>F</td>\n",
       "      <td>1600000</td>\n",
       "      <td>2019-05-02</td>\n",
       "      <td>Semantics</td>\n",
       "    </tr>\n",
       "  </tbody>\n",
       "</table>\n",
       "</div>"
      ],
      "text/plain": [
       "      EID      Employee Name Gender   Salary Date of Joining   Department\n",
       "12  E620Y     Kumar Abhishek      M  1100000      2014-12-01    Semantics\n",
       "7   E184A  Kushmakar Krishna      M  1100000      2015-01-01     Products\n",
       "4   E098Z    Rajendra Prabhu      M  1000000      2015-11-11    Semantics\n",
       "8   E104S     Amarnath Patil      M   600000      2015-11-29  Engineering\n",
       "3   E123B      Pankaj Bansal      M   900000      2015-12-01     Research\n",
       "1   E876G     Mayur Kulkarni      M  1200000      2016-06-03    Semantics\n",
       "2   E798G      Anurag Pandey      M  1200000      2016-07-04           IT\n",
       "0   E123D        Nitin Bhole      M  1900000      2016-11-01     Products\n",
       "5   E294M     Sumanth Mishra      M  1800000      2017-09-04     Research\n",
       "6   E972L          Sai Bodha      M  1100000      2017-11-11    Semantics\n",
       "10  E983Q     Chakshu Bansal      F   300000      2017-12-04     Products\n",
       "9   E093V   Shashidhar Reddy      M   700000      2018-11-29  Engineering\n",
       "13  E109U     Sanket Gibbidi      M  5000000      2019-01-11     Products\n",
       "11  E092E       Mitali Gupta      F  1600000      2019-05-02    Semantics"
      ]
     },
     "execution_count": 12,
     "metadata": {},
     "output_type": "execute_result"
    }
   ],
   "source": [
    "sorted_employees"
   ]
  },
  {
   "cell_type": "code",
   "execution_count": null,
   "id": "7f8cbd76",
   "metadata": {},
   "outputs": [],
   "source": []
  }
 ],
 "metadata": {
  "kernelspec": {
   "display_name": "Python 3",
   "language": "python",
   "name": "python3"
  },
  "language_info": {
   "codemirror_mode": {
    "name": "ipython",
    "version": 3
   },
   "file_extension": ".py",
   "mimetype": "text/x-python",
   "name": "python",
   "nbconvert_exporter": "python",
   "pygments_lexer": "ipython3",
   "version": "3.13.3"
  }
 },
 "nbformat": 4,
 "nbformat_minor": 5
}
